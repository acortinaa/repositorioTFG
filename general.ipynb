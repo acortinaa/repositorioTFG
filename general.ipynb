{
 "cells": [
  {
   "cell_type": "code",
   "execution_count": 3,
   "metadata": {},
   "outputs": [
    {
     "name": "stdout",
     "output_type": "stream",
     "text": [
      "Loading event /nfs/fanae/user/uo290313/Desktop/TFG/dataset/trackml-particle-identification/train_1/event000001000\n",
      "event000001000 memory usage 18.46 MB\n"
     ]
    }
   ],
   "source": [
    "from trackml.dataset import load_event\n",
    "from trackml.utils import add_position_quantities, add_momentum_quantities, decode_particle_id\n",
    "\n",
    "import numpy as np\n",
    "import pandas as pd\n",
    "import matplotlib.pyplot as plt\n",
    "from mpl_toolkits.mplot3d import Axes3D\n",
    "import seaborn as sns\n",
    "\n",
    "path = '/nfs/fanae/user/uo290313/Desktop/TFG/dataset/trackml-particle-identification/train_1/'\n",
    "event = 'event000001000'\n",
    "\n",
    "print('Loading event {}'.format(path+event))\n",
    "\n",
    "hits, cells, particles, truth = load_event(path+event)\n",
    "\n",
    "mem_bytes = (hits.memory_usage(index=True).sum() \n",
    "             + cells.memory_usage(index=True).sum() \n",
    "             + particles.memory_usage(index=True).sum() \n",
    "             + truth.memory_usage(index=True).sum())\n",
    "print('{} memory usage {:.2f} MB'.format(event, mem_bytes / 2**20))"
   ]
  },
  {
   "cell_type": "code",
   "execution_count": null,
   "metadata": {},
   "outputs": [],
   "source": [
    "'''\n",
    "Representación de los hits\n",
    "'''\n",
    "print(hits.head())\n",
    "\n",
    "g = sns.jointplot(x=hits.x, y=hits.y, s=1, height=12)\n",
    "g.ax_joint.cla()\n",
    "plt.sca(g.ax_joint)\n",
    "\n",
    "volumes = hits.volume_id.unique()\n",
    "for volume in volumes:\n",
    "    v = hits[hits.volume_id == volume]\n",
    "    plt.scatter(v.x, v.y, s=3, label='volume {}'.format(volume))\n",
    "\n",
    "plt.xlabel('X (mm)')\n",
    "plt.ylabel('Y (mm)')\n",
    "plt.legend()\n",
    "plt.show()"
   ]
  },
  {
   "cell_type": "code",
   "execution_count": 24,
   "metadata": {},
   "outputs": [
    {
     "name": "stdout",
     "output_type": "stream",
     "text": [
      "        particle_id        vx        vy        vz         px         py  \\\n",
      "0  4503668346847232 -0.009288  0.009861 -0.077879  -0.055269   0.323272   \n",
      "1  4503737066323968 -0.009288  0.009861 -0.077879  -0.948125   0.470892   \n",
      "2  4503805785800704 -0.009288  0.009861 -0.077879  -0.886484   0.105749   \n",
      "3  4503874505277440 -0.009288  0.009861 -0.077879   0.257539  -0.676718   \n",
      "4  4503943224754176 -0.009288  0.009861 -0.077879  16.439400 -15.548900   \n",
      "\n",
      "          pz  q  nhits  vertex_id  primary_id  generation  secondary_id  \\\n",
      "0  -0.203492 -1      8          1           1           0             0   \n",
      "1   2.010060  1     11          1           2           0             0   \n",
      "2   0.683881 -1      0          1           3           0             0   \n",
      "3   0.991616  1     12          1           4           0             0   \n",
      "4 -39.824902  1      3          1           5           0             0   \n",
      "\n",
      "   process         pt      pphi      peta          p  \n",
      "0        0   0.327963  1.740126 -0.586301   0.385964  \n",
      "1        0   1.058622  2.680624  1.397417   2.271788  \n",
      "2        0   0.892769  3.022863  0.705916   1.124602  \n",
      "3        0   0.724067 -1.207151  1.120130   1.227834  \n",
      "4        0  22.627907 -0.757567 -1.330844  45.804420  \n"
     ]
    },
    {
     "ename": "ValueError",
     "evalue": "operands could not be broadcast together with shapes (6,) (6,3) ",
     "output_type": "error",
     "traceback": [
      "\u001b[0;31m---------------------------------------------------------------------------\u001b[0m",
      "\u001b[0;31mValueError\u001b[0m                                Traceback (most recent call last)",
      "Cell \u001b[0;32mIn[24], line 47\u001b[0m\n\u001b[1;32m     45\u001b[0m     m \u001b[38;5;241m=\u001b[39m np\u001b[38;5;241m.\u001b[39marray([[row[\u001b[38;5;124m'\u001b[39m\u001b[38;5;124mpx\u001b[39m\u001b[38;5;124m'\u001b[39m]], [row[\u001b[38;5;124m'\u001b[39m\u001b[38;5;124mpy\u001b[39m\u001b[38;5;124m'\u001b[39m]], [row[\u001b[38;5;124m'\u001b[39m\u001b[38;5;124mpz\u001b[39m\u001b[38;5;124m'\u001b[39m]]])  \u001b[38;5;66;03m# Convertir la medición a un array para el filtro\u001b[39;00m\n\u001b[1;32m     46\u001b[0m     kf\u001b[38;5;241m.\u001b[39mpredict()  \u001b[38;5;66;03m# Paso de predicción\u001b[39;00m\n\u001b[0;32m---> 47\u001b[0m     estimacion \u001b[38;5;241m=\u001b[39m \u001b[43mkf\u001b[49m\u001b[38;5;241;43m.\u001b[39;49m\u001b[43mupdate\u001b[49m\u001b[43m(\u001b[49m\u001b[43mm\u001b[49m\u001b[43m)\u001b[49m  \u001b[38;5;66;03m# Paso de actualización con la medición actual\u001b[39;00m\n\u001b[1;32m     48\u001b[0m     estimaciones\u001b[38;5;241m.\u001b[39mappend(estimacion)\n\u001b[1;32m     50\u001b[0m \u001b[38;5;66;03m# Convertir las estimaciones en un DataFrame para analizar\u001b[39;00m\n",
      "File \u001b[0;32m/mnt_pool/c3_users/user/uo290313/Desktop/TFG/repositorioTFG/kalman_filter.py:37\u001b[0m, in \u001b[0;36mKalmanFilter.update\u001b[0;34m(self, m)\u001b[0m\n\u001b[1;32m     34\u001b[0m S \u001b[38;5;241m=\u001b[39m \u001b[38;5;28mself\u001b[39m\u001b[38;5;241m.\u001b[39mH \u001b[38;5;241m@\u001b[39m \u001b[38;5;28mself\u001b[39m\u001b[38;5;241m.\u001b[39mC \u001b[38;5;241m@\u001b[39m \u001b[38;5;28mself\u001b[39m\u001b[38;5;241m.\u001b[39mH\u001b[38;5;241m.\u001b[39mT \u001b[38;5;241m+\u001b[39m \u001b[38;5;28mself\u001b[39m\u001b[38;5;241m.\u001b[39mR  \u001b[38;5;66;03m# Covarianza de la innovación (con el ruido de medición)\u001b[39;00m\n\u001b[1;32m     35\u001b[0m K \u001b[38;5;241m=\u001b[39m \u001b[38;5;28mself\u001b[39m\u001b[38;5;241m.\u001b[39mC \u001b[38;5;241m@\u001b[39m \u001b[38;5;28mself\u001b[39m\u001b[38;5;241m.\u001b[39mH\u001b[38;5;241m.\u001b[39mT \u001b[38;5;241m@\u001b[39m np\u001b[38;5;241m.\u001b[39mlinalg\u001b[38;5;241m.\u001b[39minv(S)  \u001b[38;5;66;03m# Ganancia de Kalman (cuánto confiar en la medición)\u001b[39;00m\n\u001b[0;32m---> 37\u001b[0m \u001b[38;5;28mself\u001b[39m\u001b[38;5;241m.\u001b[39mx \u001b[38;5;241m=\u001b[39m \u001b[38;5;28;43mself\u001b[39;49m\u001b[38;5;241;43m.\u001b[39;49m\u001b[43mx\u001b[49m\u001b[43m \u001b[49m\u001b[38;5;241;43m+\u001b[39;49m\u001b[43m \u001b[49m\u001b[43mK\u001b[49m\u001b[43m \u001b[49m\u001b[38;5;241;43m@\u001b[39;49m\u001b[43m \u001b[49m\u001b[43mr\u001b[49m  \u001b[38;5;66;03m# Estado actualizado\u001b[39;00m\n\u001b[1;32m     38\u001b[0m \u001b[38;5;28mself\u001b[39m\u001b[38;5;241m.\u001b[39mC \u001b[38;5;241m=\u001b[39m (np\u001b[38;5;241m.\u001b[39meye(\u001b[38;5;28mself\u001b[39m\u001b[38;5;241m.\u001b[39mC\u001b[38;5;241m.\u001b[39mshape[\u001b[38;5;241m0\u001b[39m]) \u001b[38;5;241m-\u001b[39m K \u001b[38;5;241m@\u001b[39m \u001b[38;5;28mself\u001b[39m\u001b[38;5;241m.\u001b[39mH) \u001b[38;5;241m@\u001b[39m \u001b[38;5;28mself\u001b[39m\u001b[38;5;241m.\u001b[39mC  \u001b[38;5;66;03m# Covarianza del error actualizada\u001b[39;00m\n\u001b[1;32m     39\u001b[0m \u001b[38;5;28;01mreturn\u001b[39;00m \u001b[38;5;28mself\u001b[39m\u001b[38;5;241m.\u001b[39mx\n",
      "\u001b[0;31mValueError\u001b[0m: operands could not be broadcast together with shapes (6,) (6,3) "
     ]
    }
   ],
   "source": [
    "from kalman_filter import KalmanFilter\n",
    "\n",
    "#print(particles.head())\n",
    "\n",
    "particles = decode_particle_id(particles)\n",
    "particles = add_momentum_quantities(particles)\n",
    "\n",
    "x = [particles.vx, particles.vy, particles.vz, particles.px, particles.py, particles.pz]    # La dimensión de los datos será de 6\n",
    "print(particles.head())\n",
    "\n",
    "''' Suposiciones de matrices de Kalman Filter '''\n",
    "# Suponemos que el sistema es lineal y que la velocidad es constante\n",
    "# El sistema se modela con las siguientes matrices\n",
    "\n",
    "A = np.array([[1, 0, 0, 1, 0, 0],   # Establecemos que la posición se actualiza con la velocidad\n",
    "              [0, 1, 0, 0, 1, 0],\n",
    "              [0, 0, 1, 0, 0, 1],\n",
    "              [0, 0, 0, 1, 0, 0],   # El estado de la velocidad se propaga\n",
    "              [0, 0, 0, 0, 1, 0],\n",
    "              [0, 0, 0, 0, 0, 1]])\n",
    "\n",
    "C = np.eye(6)  # Covarianza inicial (suponemos que comenzamos con incertidumbre en el estado)\n",
    "F = A  # La propagación es igual a la matriz de transición de estado A\n",
    "H = np.array([[1, 0, 0, 0, 0, 0],  # Solo medimos las posiciones x, y, z\n",
    "              [0, 1, 0, 0, 0, 0],\n",
    "              [0, 0, 1, 0, 0, 0]])\n",
    "\n",
    "Q = np.eye(6) * 0.01  # Ruido de proceso (ajusta según el sistema)\n",
    "R = np.array([[0.1, 0, 0],  # Ruido de medición (ajusta según el sensor)\n",
    "              [0, 0.1, 0],\n",
    "              [0, 0, 0.1]])\n",
    "\n",
    "# Estado inicial (suponemos que inicialmente la partícula está en la posición 0, 0, 0 y tiene velocidad 0)\n",
    "x0 = np.array([0, 0, 0, 0, 0, 0])\n",
    "\n",
    "# Crear el filtro de Kalman\n",
    "kf = KalmanFilter(A, C, F, H, Q, R, x0)\n",
    "\n",
    "# Lista para almacenar las estimaciones de posición y velocidad\n",
    "estimaciones = []\n",
    "\n",
    "# Iterar sobre el dataset\n",
    "for index, row in particles.iterrows():\n",
    "    # Las mediciones son las componentes px, py, pz (que son las posiciones que tenemos)\n",
    "    m = np.array([[row['px']], [row['py']], [row['pz']]])  # Convertir la medición a un array para el filtro\n",
    "    kf.predict()  # Paso de predicción\n",
    "    estimacion = kf.update(m)  # Paso de actualización con la medición actual\n",
    "    estimaciones.append(estimacion)\n",
    "\n",
    "# Convertir las estimaciones en un DataFrame para analizar\n",
    "estimaciones_df = pd.DataFrame(estimaciones, columns=['pos_x', 'pos_y', 'pos_z', 'vel_x', 'vel_y', 'vel_z'])\n",
    "\n",
    "# Mostrar las estimaciones\n",
    "particles['pos_x_estimada'] = estimaciones_df['pos_x']\n",
    "particles['pos_y_estimada'] = estimaciones_df['pos_y']\n",
    "particles['pos_z_estimada'] = estimaciones_df['pos_z']\n",
    "particles['vel_x_estimada'] = estimaciones_df['vel_x']\n",
    "particles['vel_y_estimada'] = estimaciones_df['vel_y']\n",
    "particles['vel_z_estimada'] = estimaciones_df['vel_z']\n",
    "\n",
    "print(particles)\n",
    "\n"
   ]
  }
 ],
 "metadata": {
  "kernelspec": {
   "display_name": "myenv",
   "language": "python",
   "name": "python3"
  },
  "language_info": {
   "codemirror_mode": {
    "name": "ipython",
    "version": 3
   },
   "file_extension": ".py",
   "mimetype": "text/x-python",
   "name": "python",
   "nbconvert_exporter": "python",
   "pygments_lexer": "ipython3",
   "version": "3.9.21"
  }
 },
 "nbformat": 4,
 "nbformat_minor": 2
}
